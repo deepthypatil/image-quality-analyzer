{
 "cells": [
  {
   "cell_type": "code",
   "execution_count": 1,
   "id": "04f9f407-1d76-436c-abb6-8bb85a9930bf",
   "metadata": {},
   "outputs": [
    {
     "name": "stderr",
     "output_type": "stream",
     "text": [
      "Processing GOOD images: 100%|██████████████████████████████████████████████████████| 4282/4282 [02:58<00:00, 23.95it/s]\n",
      "Processing GOOD images: 0it [00:00, ?it/s]\n",
      "Processing GOOD images: 0it [00:00, ?it/s]\n",
      "Processing GOOD images: 0it [00:00, ?it/s]\n",
      "Processing BAD images: 100%|███████████████████████████████████████████████████████| 1050/1050 [02:56<00:00,  5.94it/s]\n",
      "Processing BAD images: 0it [00:00, ?it/s]\n",
      "Processing BAD images: 0it [00:00, ?it/s]\n",
      "Processing BAD images: 0it [00:00, ?it/s]\n",
      "Processing BAD images: 0it [00:00, ?it/s]\n",
      "Processing BAD images: 100%|█████████████████████████████████████████████████████████| 350/350 [00:56<00:00,  6.18it/s]\n",
      "Processing BAD images: 100%|█████████████████████████████████████████████████████████| 350/350 [00:54<00:00,  6.37it/s]\n"
     ]
    },
    {
     "name": "stdout",
     "output_type": "stream",
     "text": [
      "✅ features.csv saved with 5 features\n"
     ]
    }
   ],
   "source": [
    "import pandas as pd\n",
    "from utils import calc_blurriness, calc_brightness, calc_contrast, calc_noise, calc_resolution\n",
    "import os\n",
    "from tqdm import tqdm\n",
    "import cv2\n",
    "\n",
    "data = []\n",
    "labels = []\n",
    "\n",
    "# GOOD images\n",
    "for root, _, files in os.walk(\"data/good\"):\n",
    "    for file in tqdm(files, desc=\"Processing GOOD images\"):\n",
    "        img_path = os.path.join(root, file)\n",
    "        img = cv2.imread(img_path)\n",
    "        if img is None:\n",
    "            continue\n",
    "        blur = calc_blurriness(img)\n",
    "        brightness = calc_brightness(img)\n",
    "        contrast = calc_contrast(img)\n",
    "        noise = calc_noise(img)\n",
    "        resolution = calc_resolution(img)\n",
    "        data.append([brightness, contrast, noise, resolution, blur])\n",
    "        labels.append(1)  # Good\n",
    "\n",
    "# BAD images\n",
    "for root, _, files in os.walk(\"data/bad\"):\n",
    "    for file in tqdm(files, desc=\"Processing BAD images\"):\n",
    "        img_path = os.path.join(root, file)\n",
    "        img = cv2.imread(img_path)\n",
    "        if img is None:\n",
    "            continue\n",
    "        blur = calc_blurriness(img)\n",
    "        brightness = calc_brightness(img)\n",
    "        contrast = calc_contrast(img)\n",
    "        noise = calc_noise(img)\n",
    "        resolution = calc_resolution(img)\n",
    "        data.append([brightness, contrast, noise, resolution, blur])\n",
    "        labels.append(0)  # Bad\n",
    "\n",
    "# Save to CSV\n",
    "df = pd.DataFrame(data, columns=[\"Brightness\", \"Contrast\", \"Noise\", \"Resolution\", \"Blur\"])\n",
    "df[\"Label\"] = labels\n",
    "df.to_csv(\"features.csv\", index=False)\n",
    "\n",
    "print(\"✅ features.csv saved with 5 features\")"
   ]
  },
  {
   "cell_type": "code",
   "execution_count": null,
   "id": "f66dd687-731a-4846-a66f-28f0f9984700",
   "metadata": {},
   "outputs": [],
   "source": []
  }
 ],
 "metadata": {
  "kernelspec": {
   "display_name": "Python 3 (ipykernel)",
   "language": "python",
   "name": "python3"
  },
  "language_info": {
   "codemirror_mode": {
    "name": "ipython",
    "version": 3
   },
   "file_extension": ".py",
   "mimetype": "text/x-python",
   "name": "python",
   "nbconvert_exporter": "python",
   "pygments_lexer": "ipython3",
   "version": "3.10.18"
  }
 },
 "nbformat": 4,
 "nbformat_minor": 5
}
